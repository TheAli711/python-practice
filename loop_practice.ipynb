{
 "cells": [
  {
   "cell_type": "markdown",
   "id": "3d7de09c",
   "metadata": {},
   "source": [
    "# Question 1"
   ]
  },
  {
   "cell_type": "markdown",
   "id": "4a174271",
   "metadata": {},
   "source": [
    "## Write a program that uses a loop to display the characters for each ASCII code 32 through 127. Display 16 characters on each line with one space between characters."
   ]
  },
  {
   "cell_type": "code",
   "execution_count": 6,
   "id": "05f861d2",
   "metadata": {},
   "outputs": [
    {
     "name": "stdout",
     "output_type": "stream",
     "text": [
      "  ! \" # $ % & ' ( ) * + , - . / \n",
      "0 1 2 3 4 5 6 7 8 9 : ; < = > ? \n",
      "@ A B C D E F G H I J K L M N O \n",
      "P Q R S T U V W X Y Z [ \\ ] ^ _ \n",
      "` a b c d e f g h i j k l m n o \n",
      "p q r s t u v w x y z { | } ~  \n"
     ]
    }
   ],
   "source": [
    "for i in range(32,128, 16):\n",
    "    for x in range(i, i+16, 1):\n",
    "        print(chr(x), end=\" \")\n",
    "    print(\"\")"
   ]
  },
  {
   "cell_type": "markdown",
   "id": "b1891717",
   "metadata": {},
   "source": [
    "# Question 2\n"
   ]
  },
  {
   "cell_type": "markdown",
   "id": "3bc775c6",
   "metadata": {},
   "source": [
    "## Write a program that asks the user for a positive integer value. The program should use a loop to get the sum of all the integers from 1 up to the number entered. For example, if the user enters 50, the loop will find the sum of 1, 2, 3, 4, ... 50.\n",
    "### Input Validation: Do not accept an input that is less than 1."
   ]
  },
  {
   "cell_type": "code",
   "execution_count": 12,
   "id": "6d4b9a3a",
   "metadata": {},
   "outputs": [
    {
     "name": "stdout",
     "output_type": "stream",
     "text": [
      "Enter Positive Number: 10\n",
      "55\n"
     ]
    }
   ],
   "source": [
    "x = int(input(\"Enter Positive Number: \"))\n",
    "y = 0;\n",
    "if(x < 1):\n",
    "    print(\"Wrong Input\")\n",
    "else:\n",
    "    for i in range(1,x):\n",
    "        y += i\n",
    "y += x\n",
    "\n",
    "print(y)"
   ]
  },
  {
   "cell_type": "markdown",
   "id": "022bbdda",
   "metadata": {},
   "source": [
    "# Question 3"
   ]
  },
  {
   "cell_type": "markdown",
   "id": "655b93d4",
   "metadata": {},
   "source": [
    "## Write a program that asks the user for the speed of a vehicle (in miles per hour) and how many hours it has traveled. It should then use a loop to display the total distance traveled at the end of each hour of that time period.\n",
    "### Input Validation: Do not accept a negative number for speed and do not accept any value less than one for time traveled"
   ]
  },
  {
   "cell_type": "code",
   "execution_count": 7,
   "id": "cde1780a",
   "metadata": {},
   "outputs": [
    {
     "name": "stdout",
     "output_type": "stream",
     "text": [
      "What is the speed of the vehicle in mph? -20\n",
      "What is the speed of the vehicle in mph? 40\n",
      "How many hours has it traveled? 0\n",
      "How many hours has it traveled? 1\n",
      "How many hours has it traveled? -29\n",
      "How many hours has it traveled? 3\n",
      "------------------------------\n",
      "Hour Distance Travelled\n",
      "------------------------------\n",
      "1 \t\t\t 40\n",
      "2 \t\t\t 80\n",
      "3 \t\t\t 120\n",
      "------------------------------\n"
     ]
    }
   ],
   "source": [
    "speed = -1\n",
    "while speed < 0:\n",
    "    speed = int(input(\"What is the speed of the vehicle in mph? \"))\n",
    "\n",
    "distance = 0\n",
    "while distance < 1:\n",
    "    distance = int(input(\"How many hours has it traveled? \"))\n",
    "\n",
    "print(\"------------------------------\")\n",
    "print(\"Hour Distance Travelled\")\n",
    "print(\"------------------------------\")\n",
    "for i in range(1,distance+1):\n",
    "    print(i , \"\\t\\t\\t\" , speed*i)\n",
    "print(\"------------------------------\")\n"
   ]
  },
  {
   "cell_type": "markdown",
   "id": "36907beb",
   "metadata": {},
   "source": [
    "# Question 4"
   ]
  },
  {
   "cell_type": "markdown",
   "id": "9646aa3d",
   "metadata": {},
   "source": [
    "## You were asked to write a program that converts a Celsius temperature to Fahrenheit and Kelvin . Modify that program so it uses a loop to display a table of the Celsius temperatures from 0 to 20 and their Kelvin and Fahrenheit equivalents."
   ]
  },
  {
   "cell_type": "code",
   "execution_count": 14,
   "id": "c9d1332b",
   "metadata": {},
   "outputs": [
    {
     "name": "stdout",
     "output_type": "stream",
     "text": [
      "-------------------------------------------\n",
      "Celsius \t Fahrenheit \t Kelvin\n",
      "-------------------------------------------\n",
      "0 \t\t 0.0 \t\t 273.15\n",
      "1 \t\t 1.8 \t\t 274.15\n",
      "2 \t\t 3.6 \t\t 275.15\n",
      "3 \t\t 5.4 \t\t 276.15\n",
      "4 \t\t 7.2 \t\t 277.15\n",
      "5 \t\t 9.0 \t\t 278.15\n",
      "6 \t\t 10.8 \t\t 279.15\n",
      "7 \t\t 12.6 \t\t 280.15\n",
      "8 \t\t 14.4 \t\t 281.15\n",
      "9 \t\t 16.2 \t\t 282.15\n",
      "10 \t\t 18.0 \t\t 283.15\n",
      "11 \t\t 19.8 \t\t 284.15\n",
      "12 \t\t 21.6 \t\t 285.15\n",
      "13 \t\t 23.4 \t\t 286.15\n",
      "14 \t\t 25.2 \t\t 287.15\n",
      "15 \t\t 27.0 \t\t 288.15\n",
      "16 \t\t 28.8 \t\t 289.15\n",
      "17 \t\t 30.6 \t\t 290.15\n",
      "18 \t\t 32.4 \t\t 291.15\n",
      "19 \t\t 34.2 \t\t 292.15\n",
      "-------------------------------------------\n"
     ]
    }
   ],
   "source": [
    "print(\"-------------------------------------------\")\n",
    "print(\"Celsius\", \"\\t\", \"Fahrenheit\", \"\\t\", \"Kelvin\")\n",
    "print(\"-------------------------------------------\")\n",
    "for i in range(20):\n",
    "    print(i , \"\\t\\t\" ,  i*9/5 , \"\\t\\t\" , i+273.15)\n",
    "print(\"-------------------------------------------\")"
   ]
  },
  {
   "cell_type": "markdown",
   "id": "cfd2ff64",
   "metadata": {},
   "source": [
    "# Question 5"
   ]
  },
  {
   "cell_type": "markdown",
   "id": "4c97401c",
   "metadata": {},
   "source": [
    "## Write a program that displays a table of speeds in kilometers per hour with their values converted to miles per hour. The table should display the speeds from 60 kilometers per hour through 130 kilometers per hour, in increments of 5 kilometers per hour"
   ]
  },
  {
   "cell_type": "code",
   "execution_count": 15,
   "id": "26911102",
   "metadata": {},
   "outputs": [
    {
     "name": "stdout",
     "output_type": "stream",
     "text": [
      "-------------------------------------------\n",
      "KPH \t\t MPH\n",
      "-------------------------------------------\n",
      "60 \t\t 37.284\n",
      "65 \t\t 40.391\n",
      "70 \t\t 43.498\n",
      "75 \t\t 46.605\n",
      "80 \t\t 49.711999999999996\n",
      "85 \t\t 52.818999999999996\n",
      "90 \t\t 55.925999999999995\n",
      "95 \t\t 59.032999999999994\n",
      "100 \t\t 62.13999999999999\n",
      "105 \t\t 65.247\n",
      "110 \t\t 68.354\n",
      "115 \t\t 71.461\n",
      "120 \t\t 74.568\n",
      "125 \t\t 77.675\n",
      "130 \t\t 80.782\n"
     ]
    }
   ],
   "source": [
    "print(\"-------------------------------------------\")\n",
    "print(\"KPH\", \"\\t\\t\", \"MPH\")\n",
    "print(\"-------------------------------------------\")\n",
    "for i in range(60,135, 5):\n",
    "    print(i, \"\\t\\t\", i*0.6214)"
   ]
  },
  {
   "cell_type": "markdown",
   "id": "8817e116",
   "metadata": {},
   "source": [
    "# Question 6"
   ]
  },
  {
   "cell_type": "markdown",
   "id": "12d3bde8",
   "metadata": {},
   "source": [
    "## Write a program that calculates how much a person earns in a month if the salary is one penny the first day, two pennies the second day, four pennies the third day, and so on with the daily pay doubling each day the employee works. The program should ask the user for the number of days the employee worked during the month and should display a table showing how much the salary was for each day worked, as well as the total pay earned for the month. The output should be displayed in dollars with two decimal points, not in pennies.\n",
    "### Input Validation: Do not accept a number less than 1 or more than 31 for the number of days worked."
   ]
  },
  {
   "cell_type": "code",
   "execution_count": 34,
   "id": "108735ba",
   "metadata": {},
   "outputs": [
    {
     "name": "stdout",
     "output_type": "stream",
     "text": [
      "Number of days worked: 31\n",
      "----------------------------------\n",
      "Day # \t\t\t Pay\n",
      "----------------------------------\n",
      "1 \t\t\t 0.01\n",
      "2 \t\t\t 0.02\n",
      "3 \t\t\t 0.04\n",
      "4 \t\t\t 0.08\n",
      "5 \t\t\t 0.16\n",
      "6 \t\t\t 0.32\n",
      "7 \t\t\t 0.64\n",
      "8 \t\t\t 1.28\n",
      "9 \t\t\t 2.56\n",
      "10 \t\t\t 5.12\n",
      "11 \t\t\t 10.24\n",
      "12 \t\t\t 20.48\n",
      "13 \t\t\t 40.96\n",
      "14 \t\t\t 81.92\n",
      "15 \t\t\t 163.84\n",
      "16 \t\t\t 327.68\n",
      "17 \t\t\t 655.36\n",
      "18 \t\t\t 1310.72\n",
      "19 \t\t\t 2621.44\n",
      "20 \t\t\t 5242.88\n",
      "21 \t\t\t 10485.76\n",
      "22 \t\t\t 20971.52\n",
      "23 \t\t\t 41943.04\n",
      "24 \t\t\t 83886.08\n",
      "25 \t\t\t 167772.16\n",
      "26 \t\t\t 335544.32\n",
      "27 \t\t\t 671088.64\n",
      "28 \t\t\t 1342177.28\n",
      "29 \t\t\t 2684354.56\n",
      "30 \t\t\t 5368709.12\n",
      "31 \t\t\t 10737418.24\n",
      "----------------------------------\n",
      "Total Salary for this month: \t 10737418.24\n",
      "----------------------------------\n"
     ]
    }
   ],
   "source": [
    "days = 0\n",
    "salary = 1\n",
    "while (1 > days or days > 31):\n",
    "    days = int(input(\"Number of days worked: \"))\n",
    "    \n",
    "print(\"----------------------------------\")\n",
    "print(\"Day # \\t\\t\\t Pay\")\n",
    "print(\"----------------------------------\")\n",
    "print(\"1 \\t\\t\\t 0.01\")\n",
    "for i in range(2,days+1):\n",
    "    salary = salary + salary\n",
    "    print(i, \"\\t\\t\\t\", salary/100)\n",
    "print(\"----------------------------------\")\n",
    "print(\"Total Salary for this month: \\t\", salary/100)\n",
    "print(\"----------------------------------\")"
   ]
  }
 ],
 "metadata": {
  "kernelspec": {
   "display_name": "Python 3 (ipykernel)",
   "language": "python",
   "name": "python3"
  },
  "language_info": {
   "codemirror_mode": {
    "name": "ipython",
    "version": 3
   },
   "file_extension": ".py",
   "mimetype": "text/x-python",
   "name": "python",
   "nbconvert_exporter": "python",
   "pygments_lexer": "ipython3",
   "version": "3.9.7"
  }
 },
 "nbformat": 4,
 "nbformat_minor": 5
}
