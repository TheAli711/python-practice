{
 "cells": [
  {
   "cell_type": "markdown",
   "id": "3d7de09c",
   "metadata": {},
   "source": [
    "# Question1"
   ]
  },
  {
   "cell_type": "markdown",
   "id": "4a174271",
   "metadata": {},
   "source": [
    "## Write a program that uses a loop to display the characters for each ASCII code 32 through 127. Display 16 characters on each line with one space between characters."
   ]
  },
  {
   "cell_type": "code",
   "execution_count": 6,
   "id": "05f861d2",
   "metadata": {},
   "outputs": [
    {
     "name": "stdout",
     "output_type": "stream",
     "text": [
      "  ! \" # $ % & ' ( ) * + , - . / \n",
      "0 1 2 3 4 5 6 7 8 9 : ; < = > ? \n",
      "@ A B C D E F G H I J K L M N O \n",
      "P Q R S T U V W X Y Z [ \\ ] ^ _ \n",
      "` a b c d e f g h i j k l m n o \n",
      "p q r s t u v w x y z { | } ~  \n"
     ]
    }
   ],
   "source": [
    "for i in range(32,128, 16):\n",
    "    for x in range(i, i+16, 1):\n",
    "        print(chr(x), end=\" \")\n",
    "    print(\"\")"
   ]
  },
  {
   "cell_type": "markdown",
   "id": "b1891717",
   "metadata": {},
   "source": [
    "# Question2\n"
   ]
  },
  {
   "cell_type": "markdown",
   "id": "3bc775c6",
   "metadata": {},
   "source": [
    "## Write a program that asks the user for a positive integer value. The program should use a loop to get the sum of all the integers from 1 up to the number entered. For example, if the user enters 50, the loop will find the sum of 1, 2, 3, 4, ... 50.\n",
    "### Input Validation: Do not accept an input that is less than 1."
   ]
  },
  {
   "cell_type": "code",
   "execution_count": 12,
   "id": "6d4b9a3a",
   "metadata": {},
   "outputs": [
    {
     "name": "stdout",
     "output_type": "stream",
     "text": [
      "Enter Positive Number: 10\n",
      "55\n"
     ]
    }
   ],
   "source": [
    "x = int(input(\"Enter Positive Number: \"))\n",
    "y = 0;\n",
    "if(x < 1):\n",
    "    print(\"Wrong Input\")\n",
    "else:\n",
    "    for i in range(1,x):\n",
    "        y += i\n",
    "y += x\n",
    "\n",
    "print(y)"
   ]
  },
  {
   "cell_type": "code",
   "execution_count": null,
   "id": "1a571143",
   "metadata": {},
   "outputs": [],
   "source": []
  }
 ],
 "metadata": {
  "kernelspec": {
   "display_name": "Python 3 (ipykernel)",
   "language": "python",
   "name": "python3"
  },
  "language_info": {
   "codemirror_mode": {
    "name": "ipython",
    "version": 3
   },
   "file_extension": ".py",
   "mimetype": "text/x-python",
   "name": "python",
   "nbconvert_exporter": "python",
   "pygments_lexer": "ipython3",
   "version": "3.9.7"
  }
 },
 "nbformat": 4,
 "nbformat_minor": 5
}
